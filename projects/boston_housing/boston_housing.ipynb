{
 "cells": [
  {
   "cell_type": "markdown",
   "metadata": {},
   "source": [
    "# Machine Learning Engineer Nanodegree\n",
    "## Model Evaluation & Validation\n",
    "## Project 1: Predicting Boston Housing Prices\n",
    "\n",
    "Welcome to the first project of the Machine Learning Engineer Nanodegree! In this notebook, some template code has already been written. You will need to implement additional functionality to successfully answer all of the questions for this project. Unless it is requested, do not modify any of the code that has already been included. In this template code, there are four sections which you must complete to successfully produce a prediction with your model. Each section where you will write code is preceded by a **STEP X** header with comments describing what must be done. Please read the instructions carefully!\n",
    "\n",
    "In addition to implementing code, there will be questions that you must answer that relate to the project and your implementation. Each section where you will answer a question is preceded by a **QUESTION X** header. Be sure that you have carefully read each question and provide thorough answers in the text boxes that begin with \"**Answer:**\". Your project submission will be evaluated based on your answers to each of the questions.  \n",
    "\n",
    "A description of the dataset can be found [here](https://archive.ics.uci.edu/ml/datasets/Housing), which is provided by the **UCI Machine Learning Repository**."
   ]
  },
  {
   "cell_type": "markdown",
   "metadata": {},
   "source": [
    "# Getting Started\n",
    "To familiarize yourself with an iPython Notebook, **try double clicking on this cell**. You will notice that the text changes so that all the formatting is removed. This allows you to make edits to the block of text you see here. This block of text (and mostly anything that's not code) is written using [Markdown](http://daringfireball.net/projects/markdown/syntax), which is a way to format text using headers, links, italics, and many other options! Whether you're editing a Markdown text block or a code block (like the one below), you can use the keyboard shortcut **Shift + Enter** or **Shift + Return** to execute the code or text block. In this case, it will show the formatted text.\n",
    "\n",
    "Let's start by setting up some code we will need to get the rest of the project up and running. Use the keyboard shortcut mentioned above on the following code block to execute it. Alternatively, depending on your iPython Notebook program, you can press the **Play** button in the hotbar. You'll know the code block executes successfully if the message *\"Boston Housing dataset loaded successfully!\"* is printed."
   ]
  },
  {
   "cell_type": "code",
   "execution_count": 1,
   "metadata": {
    "collapsed": false
   },
   "outputs": [
    {
     "name": "stdout",
     "output_type": "stream",
     "text": [
      "['data', 'feature_names', 'DESCR', 'target']\n",
      "Boston Housing dataset loaded successfully!\n",
      "[  6.32000000e-03   1.80000000e+01   2.31000000e+00   0.00000000e+00\n",
      "   5.38000000e-01   6.57500000e+00   6.52000000e+01   4.09000000e+00\n",
      "   1.00000000e+00   2.96000000e+02   1.53000000e+01   3.96900000e+02\n",
      "   4.98000000e+00]\n",
      "[  6.32000000e-03   2.73100000e-02   2.72900000e-02   3.23700000e-02\n",
      "   6.90500000e-02   2.98500000e-02   8.82900000e-02   1.44550000e-01\n",
      "   2.11240000e-01   1.70040000e-01   2.24890000e-01   1.17470000e-01\n",
      "   9.37800000e-02   6.29760000e-01   6.37960000e-01   6.27390000e-01\n",
      "   1.05393000e+00   7.84200000e-01   8.02710000e-01   7.25800000e-01\n",
      "   1.25179000e+00   8.52040000e-01   1.23247000e+00   9.88430000e-01\n",
      "   7.50260000e-01   8.40540000e-01   6.71910000e-01   9.55770000e-01\n",
      "   7.72990000e-01   1.00245000e+00   1.13081000e+00   1.35472000e+00\n",
      "   1.38799000e+00   1.15172000e+00   1.61282000e+00   6.41700000e-02\n",
      "   9.74400000e-02   8.01400000e-02   1.75050000e-01   2.76300000e-02\n",
      "   3.35900000e-02   1.27440000e-01   1.41500000e-01   1.59360000e-01\n",
      "   1.22690000e-01   1.71420000e-01   1.88360000e-01   2.29270000e-01\n",
      "   2.53870000e-01   2.19770000e-01   8.87300000e-02   4.33700000e-02\n",
      "   5.36000000e-02   4.98100000e-02   1.36000000e-02   1.31100000e-02\n",
      "   2.05500000e-02   1.43200000e-02   1.54450000e-01   1.03280000e-01\n",
      "   1.49320000e-01   1.71710000e-01   1.10270000e-01   1.26500000e-01\n",
      "   1.95100000e-02   3.58400000e-02   4.37900000e-02   5.78900000e-02\n",
      "   1.35540000e-01   1.28160000e-01   8.82600000e-02   1.58760000e-01\n",
      "   9.16400000e-02   1.95390000e-01   7.89600000e-02   9.51200000e-02\n",
      "   1.01530000e-01   8.70700000e-02   5.64600000e-02   8.38700000e-02\n",
      "   4.11300000e-02   4.46200000e-02   3.65900000e-02   3.55100000e-02\n",
      "   5.05900000e-02   5.73500000e-02   5.18800000e-02   7.15100000e-02\n",
      "   5.66000000e-02   5.30200000e-02   4.68400000e-02   3.93200000e-02\n",
      "   4.20300000e-02   2.87500000e-02   4.29400000e-02   1.22040000e-01\n",
      "   1.15040000e-01   1.20830000e-01   8.18700000e-02   6.86000000e-02\n",
      "   1.48660000e-01   1.14320000e-01   2.28760000e-01   2.11610000e-01\n",
      "   1.39600000e-01   1.32620000e-01   1.71200000e-01   1.31170000e-01\n",
      "   1.28020000e-01   2.63630000e-01   1.07930000e-01   1.00840000e-01\n",
      "   1.23290000e-01   2.22120000e-01   1.42310000e-01   1.71340000e-01\n",
      "   1.31580000e-01   1.50980000e-01   1.30580000e-01   1.44760000e-01\n",
      "   6.89900000e-02   7.16500000e-02   9.29900000e-02   1.50380000e-01\n",
      "   9.84900000e-02   1.69020000e-01   3.87350000e-01   2.59150000e-01\n",
      "   3.25430000e-01   8.81250000e-01   3.40060000e-01   1.19294000e+00\n",
      "   5.90050000e-01   3.29820000e-01   9.76170000e-01   5.57780000e-01\n",
      "   3.22640000e-01   3.52330000e-01   2.49800000e-01   5.44520000e-01\n",
      "   2.90900000e-01   1.62864000e+00   3.32105000e+00   4.09740000e+00\n",
      "   2.77974000e+00   2.37934000e+00   2.15505000e+00   2.36862000e+00\n",
      "   2.33099000e+00   2.73397000e+00   1.65660000e+00   1.49632000e+00\n",
      "   1.12658000e+00   2.14918000e+00   1.41385000e+00   3.53501000e+00\n",
      "   2.44668000e+00   1.22358000e+00   1.34284000e+00   1.42502000e+00\n",
      "   1.27346000e+00   1.46336000e+00   1.83377000e+00   1.51902000e+00\n",
      "   2.24236000e+00   2.92400000e+00   2.01019000e+00   1.80028000e+00\n",
      "   2.30040000e+00   2.44953000e+00   1.20742000e+00   2.31390000e+00\n",
      "   1.39140000e-01   9.17800000e-02   8.44700000e-02   6.66400000e-02\n",
      "   7.02200000e-02   5.42500000e-02   6.64200000e-02   5.78000000e-02\n",
      "   6.58800000e-02   6.88800000e-02   9.10300000e-02   1.00080000e-01\n",
      "   8.30800000e-02   6.04700000e-02   5.60200000e-02   7.87500000e-02\n",
      "   1.25790000e-01   8.37000000e-02   9.06800000e-02   6.91100000e-02\n",
      "   8.66400000e-02   2.18700000e-02   1.43900000e-02   1.38100000e-02\n",
      "   4.01100000e-02   4.66600000e-02   3.76800000e-02   3.15000000e-02\n",
      "   1.77800000e-02   3.44500000e-02   2.17700000e-02   3.51000000e-02\n",
      "   2.00900000e-02   1.36420000e-01   2.29690000e-01   2.51990000e-01\n",
      "   1.35870000e-01   4.35710000e-01   1.74460000e-01   3.75780000e-01\n",
      "   2.17190000e-01   1.40520000e-01   2.89550000e-01   1.98020000e-01\n",
      "   4.56000000e-02   7.01300000e-02   1.10690000e-01   1.14250000e-01\n",
      "   3.58090000e-01   4.07710000e-01   6.23560000e-01   6.14700000e-01\n",
      "   3.15330000e-01   5.26930000e-01   3.82140000e-01   4.12380000e-01\n",
      "   2.98190000e-01   4.41780000e-01   5.37000000e-01   4.62960000e-01\n",
      "   5.75290000e-01   3.31470000e-01   4.47910000e-01   3.30450000e-01\n",
      "   5.20580000e-01   5.11830000e-01   8.24400000e-02   9.25200000e-02\n",
      "   1.13290000e-01   1.06120000e-01   1.02900000e-01   1.27570000e-01\n",
      "   2.06080000e-01   1.91330000e-01   3.39830000e-01   1.96570000e-01\n",
      "   1.64390000e-01   1.90730000e-01   1.40300000e-01   2.14090000e-01\n",
      "   8.22100000e-02   3.68940000e-01   4.81900000e-02   3.54800000e-02\n",
      "   1.53800000e-02   6.11540000e-01   6.63510000e-01   6.56650000e-01\n",
      "   5.40110000e-01   5.34120000e-01   5.20140000e-01   8.25260000e-01\n",
      "   5.50070000e-01   7.61620000e-01   7.85700000e-01   5.78340000e-01\n",
      "   5.40500000e-01   9.06500000e-02   2.99160000e-01   1.62110000e-01\n",
      "   1.14600000e-01   2.21880000e-01   5.64400000e-02   9.60400000e-02\n",
      "   1.04690000e-01   6.12700000e-02   7.97800000e-02   2.10380000e-01\n",
      "   3.57800000e-02   3.70500000e-02   6.12900000e-02   1.50100000e-02\n",
      "   9.06000000e-03   1.09600000e-02   1.96500000e-02   3.87100000e-02\n",
      "   4.59000000e-02   4.29700000e-02   3.50200000e-02   7.88600000e-02\n",
      "   3.61500000e-02   8.26500000e-02   8.19900000e-02   1.29320000e-01\n",
      "   5.37200000e-02   1.41030000e-01   6.46600000e-02   5.56100000e-02\n",
      "   4.41700000e-02   3.53700000e-02   9.26600000e-02   1.00000000e-01\n",
      "   5.51500000e-02   5.47900000e-02   7.50300000e-02   4.93200000e-02\n",
      "   4.92980000e-01   3.49400000e-01   2.63548000e+00   7.90410000e-01\n",
      "   2.61690000e-01   2.69380000e-01   3.69200000e-01   2.53560000e-01\n",
      "   3.18270000e-01   2.45220000e-01   4.02020000e-01   4.75470000e-01\n",
      "   1.67600000e-01   1.81590000e-01   3.51140000e-01   2.83920000e-01\n",
      "   3.41090000e-01   1.91860000e-01   3.03470000e-01   2.41030000e-01\n",
      "   6.61700000e-02   6.72400000e-02   4.54400000e-02   5.02300000e-02\n",
      "   3.46600000e-02   5.08300000e-02   3.73800000e-02   3.96100000e-02\n",
      "   3.42700000e-02   3.04100000e-02   3.30600000e-02   5.49700000e-02\n",
      "   6.15100000e-02   1.30100000e-02   2.49800000e-02   2.54300000e-02\n",
      "   3.04900000e-02   3.11300000e-02   6.16200000e-02   1.87000000e-02\n",
      "   1.50100000e-02   2.89900000e-02   6.21100000e-02   7.95000000e-02\n",
      "   7.24400000e-02   1.70900000e-02   4.30100000e-02   1.06590000e-01\n",
      "   8.98296000e+00   3.84970000e+00   5.20177000e+00   4.26131000e+00\n",
      "   4.54192000e+00   3.83684000e+00   3.67822000e+00   4.22239000e+00\n",
      "   3.47428000e+00   4.55587000e+00   3.69695000e+00   1.35222000e+01\n",
      "   4.89822000e+00   5.66998000e+00   6.53876000e+00   9.23230000e+00\n",
      "   8.26725000e+00   1.11081000e+01   1.84982000e+01   1.96091000e+01\n",
      "   1.52880000e+01   9.82349000e+00   2.36482000e+01   1.78667000e+01\n",
      "   8.89762000e+01   1.58744000e+01   9.18702000e+00   7.99248000e+00\n",
      "   2.00849000e+01   1.68118000e+01   2.43938000e+01   2.25971000e+01\n",
      "   1.43337000e+01   8.15174000e+00   6.96215000e+00   5.29305000e+00\n",
      "   1.15779000e+01   8.64476000e+00   1.33598000e+01   8.71675000e+00\n",
      "   5.87205000e+00   7.67202000e+00   3.83518000e+01   9.91655000e+00\n",
      "   2.50461000e+01   1.42362000e+01   9.59571000e+00   2.48017000e+01\n",
      "   4.15292000e+01   6.79208000e+01   2.07162000e+01   1.19511000e+01\n",
      "   7.40389000e+00   1.44383000e+01   5.11358000e+01   1.40507000e+01\n",
      "   1.88110000e+01   2.86558000e+01   4.57461000e+01   1.80846000e+01\n",
      "   1.08342000e+01   2.59406000e+01   7.35341000e+01   1.18123000e+01\n",
      "   1.10874000e+01   7.02259000e+00   1.20482000e+01   7.05042000e+00\n",
      "   8.79212000e+00   1.58603000e+01   1.22472000e+01   3.76619000e+01\n",
      "   7.36711000e+00   9.33889000e+00   8.49213000e+00   1.00623000e+01\n",
      "   6.44405000e+00   5.58107000e+00   1.39134000e+01   1.11604000e+01\n",
      "   1.44208000e+01   1.51772000e+01   1.36781000e+01   9.39063000e+00\n",
      "   2.20511000e+01   9.72418000e+00   5.66637000e+00   9.96654000e+00\n",
      "   1.28023000e+01   6.71800000e-01   6.28807000e+00   9.92485000e+00\n",
      "   9.32909000e+00   7.52601000e+00   6.71772000e+00   5.44114000e+00\n",
      "   5.09017000e+00   8.24809000e+00   9.51363000e+00   4.75237000e+00\n",
      "   4.66883000e+00   8.20058000e+00   7.75223000e+00   6.80117000e+00\n",
      "   4.81213000e+00   3.69311000e+00   6.65492000e+00   5.82115000e+00\n",
      "   7.83932000e+00   3.16360000e+00   3.77498000e+00   4.42228000e+00\n",
      "   1.55757000e+01   1.30751000e+01   4.34879000e+00   4.03841000e+00\n",
      "   3.56868000e+00   4.64689000e+00   8.05579000e+00   6.39312000e+00\n",
      "   4.87141000e+00   1.50234000e+01   1.02330000e+01   1.43337000e+01\n",
      "   5.82401000e+00   5.70818000e+00   5.73116000e+00   2.81838000e+00\n",
      "   2.37857000e+00   3.67367000e+00   5.69175000e+00   4.83567000e+00\n",
      "   1.50860000e-01   1.83370000e-01   2.07460000e-01   1.05740000e-01\n",
      "   1.11320000e-01   1.73310000e-01   2.79570000e-01   1.78990000e-01\n",
      "   2.89600000e-01   2.68380000e-01   2.39120000e-01   1.77830000e-01\n",
      "   2.24380000e-01   6.26300000e-02   4.52700000e-02   6.07600000e-02\n",
      "   1.09590000e-01   4.74100000e-02]\n"
     ]
    }
   ],
   "source": [
    "# Importing a few necessary libraries\n",
    "import numpy as np\n",
    "import matplotlib.pyplot as pl\n",
    "from sklearn import datasets\n",
    "from sklearn.tree import DecisionTreeRegressor\n",
    "\n",
    "# Make matplotlib show our plots inline (nicely formatted in the notebook)\n",
    "%matplotlib inline\n",
    "\n",
    "# Create our client's feature set for which we will be predicting a selling price\n",
    "CLIENT_FEATURES = [[11.95, 0.00, 18.100, 0, 0.6590, 5.6090, 90.00, 1.385, 24, 680.0, 20.20, 332.09, 12.13]]\n",
    "\n",
    "# Load the Boston Housing dataset into the city_data variable\n",
    "city_data = datasets.load_boston()\n",
    "print city_data.keys()\n",
    "\n",
    "# Initialize the housing prices and housing features\n",
    "housing_prices = city_data.target\n",
    "housing_features = city_data.data\n",
    "\n",
    "print \"Boston Housing dataset loaded successfully!\"\n",
    "print housing_features[0]\n",
    "#print city_data.DESCR\n",
    "print housing_features[:,0]"
   ]
  },
  {
   "cell_type": "markdown",
   "metadata": {},
   "source": [
    "# Statistical Analysis and Data Exploration\n",
    "In this first section of the project, you will quickly investigate a few basic statistics about the dataset you are working with. In addition, you'll look at the client's feature set in `CLIENT_FEATURES` and see how this particular sample relates to the features of the dataset. Familiarizing yourself with the data through an explorative process is a fundamental practice to help you better understand your results."
   ]
  },
  {
   "cell_type": "markdown",
   "metadata": {},
   "source": [
    "## Step 1\n",
    "In the code block below, use the imported `numpy` library to calculate the requested statistics. You will need to replace each `None` you find with the appropriate `numpy` coding for the proper statistic to be printed. Be sure to execute the code block each time to test if your implementation is working successfully. The print statements will show the statistics you calculate!"
   ]
  },
  {
   "cell_type": "code",
   "execution_count": 55,
   "metadata": {
    "collapsed": false
   },
   "outputs": [
    {
     "name": "stdout",
     "output_type": "stream",
     "text": [
      "11.3636363636\n",
      "Boston Housing dataset statistics (in $1000's):\n",
      "\n",
      "Total number of houses: 506\n",
      "Total number of features: 13\n",
      "Minimum house price: 5.0\n",
      "Maximum house price: 50.0\n",
      "Mean house price: 22.533\n",
      "Median house price: 21.2\n",
      "Standard deviation of house price: 9.188\n"
     ]
    }
   ],
   "source": [
    "# Number of houses in the dataset\n",
    "total_houses = housing_features.shape[0]\n",
    "\n",
    "# Number of features in the dataset\n",
    "total_features = housing_features.shape[1]\n",
    "\n",
    "# Minimum housing value in the dataset\n",
    "minimum_price = np.min(housing_prices)\n",
    "\n",
    "# Maximum housing value in the dataset\n",
    "maximum_price = np.max(housing_prices)\n",
    "\n",
    "# Mean house value of the dataset\n",
    "mean_price = np.average(housing_prices)\n",
    "\n",
    "print np.average(housing_features[:,1])\n",
    "\n",
    "# Median house value of the dataset\n",
    "median_price = np.median(housing_prices)\n",
    "\n",
    "# Standard deviation of housing values of the dataset\n",
    "std_dev = np.std(housing_prices)\n",
    "\n",
    "# Show the calculated statistics\n",
    "print \"Boston Housing dataset statistics (in $1000's):\\n\"\n",
    "print \"Total number of houses:\", total_houses\n",
    "print \"Total number of features:\", total_features\n",
    "print \"Minimum house price:\", minimum_price\n",
    "print \"Maximum house price:\", maximum_price\n",
    "print \"Mean house price: {0:.3f}\".format(mean_price)\n",
    "print \"Median house price:\", median_price\n",
    "print \"Standard deviation of house price: {0:.3f}\".format(std_dev)"
   ]
  },
  {
   "cell_type": "markdown",
   "metadata": {},
   "source": [
    "## Question 1\n",
    "As a reminder, you can view a description of the Boston Housing dataset [here](https://archive.ics.uci.edu/ml/datasets/Housing), where you can find the different features under **Attribute Information**. The `MEDV` attribute relates to the values stored in our `housing_prices` variable, so we do not consider that a feature of the data.\n",
    "\n",
    "*Of the features available for each data point, choose three that you feel are significant and give a brief description for each of what they measure.*\n",
    "\n",
    "Remember, you can **double click the text box below** to add your answer!"
   ]
  },
  {
   "cell_type": "markdown",
   "metadata": {},
   "source": [
    "**Answer: **\n",
    "\n",
    "RM: Average number of rooms per dwelling.\n",
    "\n",
    "INDUS: Proportion of non-retail business acres per town\n",
    "\n",
    "ZN: Proportion of residential land zoned for lots over 25,000 sq.ft. "
   ]
  },
  {
   "cell_type": "markdown",
   "metadata": {},
   "source": [
    "## Question 2\n",
    "*Using your client's feature set `CLIENT_FEATURES`, which values correspond with the features you've chosen above?*  \n",
    "**Hint: ** Run the code block below to see the client's data."
   ]
  },
  {
   "cell_type": "code",
   "execution_count": 3,
   "metadata": {
    "collapsed": false
   },
   "outputs": [
    {
     "name": "stdout",
     "output_type": "stream",
     "text": [
      "[[11.95, 0.0, 18.1, 0, 0.659, 5.609, 90.0, 1.385, 24, 680.0, 20.2, 332.09, 12.13]]\n"
     ]
    }
   ],
   "source": [
    "print CLIENT_FEATURES"
   ]
  },
  {
   "cell_type": "markdown",
   "metadata": {},
   "source": [
    "**Answer: **\n",
    "\n",
    "RM 5.609\n",
    "\n",
    "INDUS 18.1\n",
    "\n",
    "ZN 0.0\n"
   ]
  },
  {
   "cell_type": "markdown",
   "metadata": {},
   "source": [
    "# Evaluating Model Performance\n",
    "In this second section of the project, you will begin to develop the tools necessary for a model to make a prediction. Being able to accurately evaluate each model's performance through the use of these tools helps to greatly reinforce the confidence in your predictions."
   ]
  },
  {
   "cell_type": "markdown",
   "metadata": {},
   "source": [
    "## Step 2\n",
    "In the code block below, you will need to implement code so that the `shuffle_split_data` function does the following:\n",
    "- Randomly shuffle the input data `X` and target labels (housing values) `y`.\n",
    "- Split the data into training and testing subsets, holding 30% of the data for testing.\n",
    "\n",
    "If you use any functions not already acessible from the imported libraries above, remember to include your import statement below as well!   \n",
    "Ensure that you have executed the code block once you are done. You'll know the `shuffle_split_data` function is working if the statement *\"Successfully shuffled and split the data!\"* is printed."
   ]
  },
  {
   "cell_type": "code",
   "execution_count": 4,
   "metadata": {
    "collapsed": false
   },
   "outputs": [
    {
     "name": "stdout",
     "output_type": "stream",
     "text": [
      "Successfully shuffled and split the data!\n",
      "(354, 13)\n",
      "(152, 13)\n",
      "(354,)\n",
      "(152,)\n"
     ]
    }
   ],
   "source": [
    "# Put any import statements you need for this code block here\n",
    "from sklearn import cross_validation\n",
    "\n",
    "def shuffle_split_data(X, y):\n",
    "    \"\"\" Shuffles and splits data into 70% training and 30% testing subsets,\n",
    "        then returns the training and testing subsets. \"\"\"\n",
    "\n",
    "    X_train, X_test, y_train, y_test = cross_validation.train_test_split(housing_features,\n",
    "                                                                         housing_prices, \n",
    "                                                                         test_size=0.3, \n",
    "                                                                         random_state=1234)\n",
    "    \n",
    "    # Shuffle and split the data\n",
    "    #X_train = None\n",
    "    #y_train = None\n",
    "    #X_test = None\n",
    "    #y_test = None\n",
    "\n",
    "    # Return the training and testing data subsets\n",
    "    return X_train, y_train, X_test, y_test\n",
    "\n",
    "\n",
    "# Test shuffle_split_data\n",
    "try:\n",
    "    X_train, y_train, X_test, y_test = shuffle_split_data(housing_features, housing_prices)\n",
    "    print \"Successfully shuffled and split the data!\"\n",
    "except:\n",
    "    print \"Something went wrong with shuffling and splitting the data.\"\n",
    "    \n",
    "print X_train.shape\n",
    "print X_test.shape\n",
    "print y_train.shape\n",
    "print y_test.shape"
   ]
  },
  {
   "cell_type": "markdown",
   "metadata": {},
   "source": [
    "## Question 3\n",
    "*Why do we split the data into training and testing subsets for our model?*"
   ]
  },
  {
   "cell_type": "markdown",
   "metadata": {},
   "source": [
    "**Answer: **\n",
    "\n",
    "To avoid overfitting. A model that uses the entire data set for training would loose it's predictive power."
   ]
  },
  {
   "cell_type": "markdown",
   "metadata": {},
   "source": [
    "## Step 3\n",
    "In the code block below, you will need to implement code so that the `performance_metric` function does the following:\n",
    "- Perform a total error calculation between the true values of the `y` labels `y_true` and the predicted values of the `y` labels `y_predict`.\n",
    "\n",
    "You will need to first choose an appropriate performance metric for this problem. See [the sklearn metrics documentation](http://scikit-learn.org/stable/modules/classes.html#sklearn-metrics-metrics) to view a list of available metric functions. **Hint: ** Look at the question below to see a list of the metrics that were covered in the supporting course for this project.\n",
    "\n",
    "Once you have determined which metric you will use, remember to include the necessary import statement as well!  \n",
    "Ensure that you have executed the code block once you are done. You'll know the `performance_metric` function is working if the statement *\"Successfully performed a metric calculation!\"* is printed."
   ]
  },
  {
   "cell_type": "code",
   "execution_count": 5,
   "metadata": {
    "collapsed": false
   },
   "outputs": [
    {
     "name": "stdout",
     "output_type": "stream",
     "text": [
      "Successfully performed a metric calculation!\n"
     ]
    }
   ],
   "source": [
    "# Put any import statements you need for this code block here\n",
    "from sklearn.metrics import mean_squared_error\n",
    "\n",
    "def performance_metric(y_true, y_predict):\n",
    "    \"\"\" Calculates and returns the total error between true and predicted values\n",
    "        based on a performance metric chosen by the student. \"\"\"\n",
    "\n",
    "    error = mean_squared_error(y_true, y_predict)\n",
    "    return error\n",
    "\n",
    "\n",
    "# Test performance_metric\n",
    "try:\n",
    "    total_error = performance_metric(y_train, y_train)\n",
    "    print \"Successfully performed a metric calculation!\"\n",
    "except:\n",
    "    print \"Something went wrong with performing a metric calculation.\""
   ]
  },
  {
   "cell_type": "markdown",
   "metadata": {},
   "source": [
    "## Question 4\n",
    "*Which performance metric below did you find was most appropriate for predicting housing prices and analyzing the total error. Why?*\n",
    "- *Accuracy*\n",
    "- *Precision*\n",
    "- *Recall*\n",
    "- *F1 Score*\n",
    "- *Mean Squared Error (MSE)*\n",
    "- *Mean Absolute Error (MAE)*"
   ]
  },
  {
   "cell_type": "markdown",
   "metadata": {},
   "source": [
    "**Answer: **\n",
    "\n",
    "The value of a home is a continous value. Therefor all categorical metrics cannot be used. \n",
    "\n",
    "MSE is preferred over MAE because calculus can be used to find min and max. Also larger deviations from the target are punished quadratically."
   ]
  },
  {
   "cell_type": "markdown",
   "metadata": {},
   "source": [
    "## Step 4 (Final Step)\n",
    "In the code block below, you will need to implement code so that the `fit_model` function does the following:\n",
    "- Create a scoring function using the same performance metric as in **Step 3**. See the [sklearn `make_scorer` documentation](http://scikit-learn.org/stable/modules/generated/sklearn.metrics.make_scorer.html).\n",
    "- Build a GridSearchCV object using `regressor`, `parameters`, and `scoring_function`. See the [sklearn documentation on GridSearchCV](http://scikit-learn.org/stable/modules/generated/sklearn.grid_search.GridSearchCV.html).\n",
    "\n",
    "When building the scoring function and GridSearchCV object, *be sure that you read the parameters documentation thoroughly.* It is not always the case that a default parameter for a function is the appropriate setting for the problem you are working on.\n",
    "\n",
    "Since you are using `sklearn` functions, remember to include the necessary import statements below as well!  \n",
    "Ensure that you have executed the code block once you are done. You'll know the `fit_model` function is working if the statement *\"Successfully fit a model to the data!\"* is printed."
   ]
  },
  {
   "cell_type": "code",
   "execution_count": 50,
   "metadata": {
    "collapsed": false
   },
   "outputs": [
    {
     "name": "stdout",
     "output_type": "stream",
     "text": [
      "{'presort': False, 'splitter': 'best', 'max_leaf_nodes': None, 'min_samples_leaf': 1, 'min_samples_split': 2, 'min_weight_fraction_leaf': 0.0, 'criterion': 'mse', 'random_state': None, 'max_features': None, 'max_depth': None}\n",
      "Successfully fit a model!\n",
      "DecisionTreeRegressor(criterion='mse', max_depth=6, max_features=None,\n",
      "           max_leaf_nodes=None, min_samples_leaf=1, min_samples_split=2,\n",
      "           min_weight_fraction_leaf=0.0, presort=False, random_state=None,\n",
      "           splitter='best')\n"
     ]
    }
   ],
   "source": [
    "# Put any import statements you need for this code block\n",
    "from sklearn.metrics import make_scorer\n",
    "from sklearn.grid_search import GridSearchCV\n",
    "\n",
    "def fit_model(X, y):\n",
    "    \"\"\" Tunes a decision tree regressor model using GridSearchCV on the input data X \n",
    "        and target labels y and returns this optimal model. \"\"\"\n",
    "\n",
    "    # Create a decision tree regressor object\n",
    "    regressor = DecisionTreeRegressor()\n",
    "\n",
    "    # Set up the parameters we wish to tune\n",
    "    parameters = {'max_depth':(1,2,3,4,5,6,7,8,9,10)}\n",
    "    \n",
    "    print regressor.get_params()\n",
    "\n",
    "    # Make an appropriate scoring function\n",
    "    scoring_function = make_scorer(mean_squared_error,False)\n",
    "\n",
    "    # Make the GridSearchCV object\n",
    "    reg = GridSearchCV(regressor,parameters,scoring=scoring_function)\n",
    "\n",
    "    # Fit the learner to the data to obtain the optimal model with tuned parameters\n",
    "    reg.fit(X, y)\n",
    "\n",
    "    # Return the optimal model\n",
    "    return reg.best_estimator_\n",
    "\n",
    "\n",
    "# Test fit_model on entire dataset\n",
    "try:\n",
    "    reg = fit_model(housing_features, housing_prices)\n",
    "    print \"Successfully fit a model!\"\n",
    "except:\n",
    "    print \"Something went wrong with fitting a model.\"\n",
    "\n",
    "print reg"
   ]
  },
  {
   "cell_type": "markdown",
   "metadata": {},
   "source": [
    "## Question 5\n",
    "*What is the grid search algorithm and when is it applicable?*"
   ]
  },
  {
   "cell_type": "markdown",
   "metadata": {},
   "source": [
    "**Answer: **\n",
    "\n",
    "Parameters that are not directly learnt within estimatores, aka hyperparameters, can be optimized by searching a parameter space for the best CV score. In this example the max depth of the decision tree regressor is such a parameter. For each max_depth setting (from 1 to 10) the CV score is determined. Then the max_depth setting with the best CV score is picked as the optimal setting."
   ]
  },
  {
   "cell_type": "markdown",
   "metadata": {},
   "source": [
    "## Question 6\n",
    "*What is cross-validation, and how is it performed on a model? Why would cross-validation be helpful when using grid search?*"
   ]
  },
  {
   "cell_type": "markdown",
   "metadata": {},
   "source": [
    "**Answer: **\n",
    "\n",
    "CV splits the training set into k equal chunks (for k-fold CV that is). Then going through each of the k chunks, each chunk is held out as validation set and each of the remaining k-1 chunks is used as training set. This will results in k indivdual scores, with the final score being the average of all scores.\n",
    "\n",
    "Without a validation set, the test set would have to be used to find the best hyperparameters. But that would mean that information of the test set leaks into the model, which can cause overfitting. Instead, the trainig set is divided further, splitting off another chunck as validation set for those hyperparameters. However, this might not leave enough data for training. CV solves this problem by rotating the validation chunk through the entire trainig set.\n",
    "\n"
   ]
  },
  {
   "cell_type": "markdown",
   "metadata": {},
   "source": [
    "# Checkpoint!\n",
    "You have now successfully completed your last code implementation section. Pat yourself on the back! All of your functions written above will be executed in the remaining sections below, and questions will be asked about various results for you to analyze. To prepare the **Analysis** and **Prediction** sections, you will need to intialize the two functions below. Remember, there's no need to implement any more code, so sit back and execute the code blocks! Some code comments are provided if you find yourself interested in the functionality."
   ]
  },
  {
   "cell_type": "code",
   "execution_count": 31,
   "metadata": {
    "collapsed": true
   },
   "outputs": [],
   "source": [
    "def learning_curves(X_train, y_train, X_test, y_test):\n",
    "    \"\"\" Calculates the performance of several models with varying sizes of training data.\n",
    "        The learning and testing error rates for each model are then plotted. \"\"\"\n",
    "    \n",
    "    print \"Creating learning curve graphs for max_depths of 1, 3, 6, and 10. . .\"\n",
    "    \n",
    "    # Create the figure window\n",
    "    fig = pl.figure(figsize=(10,8))\n",
    "\n",
    "    # We will vary the training set size so that we have 50 different sizes\n",
    "    sizes = np.rint(np.linspace(1, len(X_train), 50)).astype(int)\n",
    "    train_err = np.zeros(len(sizes))\n",
    "    test_err = np.zeros(len(sizes))\n",
    "\n",
    "    # Create four different models based on max_depth\n",
    "    for k, depth in enumerate([1,3,6,10]):\n",
    "        \n",
    "        for i, s in enumerate(sizes):\n",
    "            \n",
    "            # Setup a decision tree regressor so that it learns a tree with max_depth = depth\n",
    "            regressor = DecisionTreeRegressor(max_depth = depth)\n",
    "            \n",
    "            # Fit the learner to the training data\n",
    "            regressor.fit(X_train[:s], y_train[:s])\n",
    "\n",
    "            # Find the performance on the training set\n",
    "            train_err[i] = performance_metric(y_train[:s], regressor.predict(X_train[:s]))\n",
    "            \n",
    "            # Find the performance on the testing set\n",
    "            test_err[i] = performance_metric(y_test, regressor.predict(X_test))\n",
    "\n",
    "        # Subplot the learning curve graph\n",
    "        ax = fig.add_subplot(2, 2, k+1)\n",
    "        ax.plot(sizes, test_err, lw = 2, label = 'Testing Error')\n",
    "        ax.plot(sizes, train_err, lw = 2, label = 'Training Error')\n",
    "        ax.legend()\n",
    "        ax.set_title('max_depth = %s'%(depth))\n",
    "        ax.set_xlabel('Number of Data Points in Training Set')\n",
    "        ax.set_ylabel('Total Error')\n",
    "        ax.set_xlim([0, len(X_train)])\n",
    "        #ax.set_xlim([350,len(X_train)])\n",
    "    \n",
    "    # Visual aesthetics\n",
    "    fig.suptitle('Decision Tree Regressor Learning Performances', fontsize=18, y=1.03)\n",
    "    fig.tight_layout()\n",
    "    fig.show()"
   ]
  },
  {
   "cell_type": "code",
   "execution_count": 32,
   "metadata": {
    "collapsed": true
   },
   "outputs": [],
   "source": [
    "def model_complexity(X_train, y_train, X_test, y_test):\n",
    "    \"\"\" Calculates the performance of the model as model complexity increases.\n",
    "        The learning and testing errors rates are then plotted. \"\"\"\n",
    "    \n",
    "    print \"Creating a model complexity graph. . . \"\n",
    "\n",
    "    # We will vary the max_depth of a decision tree model from 1 to 14\n",
    "    max_depth = np.arange(1, 14)\n",
    "    train_err = np.zeros(len(max_depth))\n",
    "    test_err = np.zeros(len(max_depth))\n",
    "\n",
    "    for i, d in enumerate(max_depth):\n",
    "        # Setup a Decision Tree Regressor so that it learns a tree with depth d\n",
    "        regressor = DecisionTreeRegressor(max_depth = d)\n",
    "\n",
    "        # Fit the learner to the training data\n",
    "        regressor.fit(X_train, y_train)\n",
    "\n",
    "        # Find the performance on the training set\n",
    "        train_err[i] = performance_metric(y_train, regressor.predict(X_train))\n",
    "\n",
    "        # Find the performance on the testing set\n",
    "        test_err[i] = performance_metric(y_test, regressor.predict(X_test))\n",
    "\n",
    "    # Plot the model complexity graph\n",
    "    pl.figure(figsize=(7, 5))\n",
    "    pl.title('Decision Tree Regressor Complexity Performance')\n",
    "    pl.plot(max_depth, test_err, lw=2, label = 'Testing Error')\n",
    "    pl.plot(max_depth, train_err, lw=2, label = 'Training Error')\n",
    "    pl.legend()\n",
    "    pl.xlabel('Maximum Depth')\n",
    "    pl.ylabel('Total Error')\n",
    "    pl.show()"
   ]
  },
  {
   "cell_type": "markdown",
   "metadata": {},
   "source": [
    "# Analyzing Model Performance\n",
    "In this third section of the project, you'll take a look at several models' learning and testing error rates on various subsets of training data. Additionally, you'll investigate one particular algorithm with an increasing `max_depth` parameter on the full training set to observe how model complexity affects learning and testing errors. Graphing your model's performance based on varying criteria can be beneficial in the analysis process, such as visualizing behavior that may not have been apparent from the results alone."
   ]
  },
  {
   "cell_type": "code",
   "execution_count": 33,
   "metadata": {
    "collapsed": false
   },
   "outputs": [
    {
     "name": "stdout",
     "output_type": "stream",
     "text": [
      "Creating learning curve graphs for max_depths of 1, 3, 6, and 10. . .\n"
     ]
    },
    {
     "data": {
      "image/png": "[encoded data removed]",
      "text/plain": [
       "<matplotlib.figure.Figure at 0x11555c310>"
      ]
     },
     "metadata": {},
     "output_type": "display_data"
    }
   ],
   "source": [
    "learning_curves(X_train, y_train, X_test, y_test)"
   ]
  },
  {
   "cell_type": "markdown",
   "metadata": {},
   "source": [
    "## Question 7\n",
    "*Choose one of the learning curve graphs that are created above. What is the max depth for the chosen model? As the size of the training set increases, what happens to the training error? What happens to the testing error?*"
   ]
  },
  {
   "cell_type": "markdown",
   "metadata": {},
   "source": [
    "**Answer: **\n",
    "\n",
    "#### max_depth = 1 :\n",
    "\n",
    "This curve is biased. The error on the training and testing set are both high. More data does not improve the error. That means the model is not complex enough.\n",
    "\n",
    "#### max_depth = 3 :\n",
    "\n",
    "This curve looks pretty well balanced. The trainig and test set errors are similar. There's only a small gap. Absolute errors are both lower than with `max_depth=1`.\n",
    "\n",
    "#### max_depth = 6 :\n",
    "\n",
    "This curve has about the the same error on the test set as `max_depth=3`. Only slightly lower. The trainig set however does have a lower error. That means the gap between test and trainig error increased, suggesting increased variance. So increasing the complexity of the model reduces the training error, but it does not help the test error. This is not directly a case of overfitting, since the test error does not increase. But more a case of diminishing returns. More data might help in this case to bring down the test error. But we don't have more data, so this added complexity of the model does not help.\n",
    "\n",
    "#### max_depth = 10 :\n",
    "\n",
    "Same as `max_depth=6`, but with even lower trainig set error."
   ]
  },
  {
   "cell_type": "markdown",
   "metadata": {},
   "source": [
    "## Question 8\n",
    "*Look at the learning curve graphs for the model with a max depth of 1 and a max depth of 10. When the model is using the full training set, does it suffer from high bias or high variance when the max depth is 1? What about when the max depth is 10?*"
   ]
  },
  {
   "cell_type": "markdown",
   "metadata": {},
   "source": [
    "**Answer: **\n",
    "\n",
    "With `max_depth=1` the model suffers from high bias. Both training and test erros are high relative to higher complexity models and more data does not help to reduce these errors. This suggests that the model is simply not complex enough to capture the relationship between features and target data.\n",
    "\n",
    "With `max_depth=10` the model suffers from somewhat higher variance. The gap between trainging and test errors has increased. However, the test error doesn't increase. So this is not necessarily a case of overfit, more a case of diminishing returns. This suggestes that more data would help to bring down the test error. But we don't have more data. In case of high variance one would expect the test error to increase again with increasing model complexity. But this is not the case here. "
   ]
  },
  {
   "cell_type": "code",
   "execution_count": 36,
   "metadata": {
    "collapsed": false
   },
   "outputs": [
    {
     "name": "stdout",
     "output_type": "stream",
     "text": [
      "Creating a model complexity graph. . . \n"
     ]
    },
    {
     "data": {
      "image/png": "[encoded data removed]",
      "text/plain": [
       "<matplotlib.figure.Figure at 0x10d33ce90>"
      ]
     },
     "metadata": {},
     "output_type": "display_data"
    }
   ],
   "source": [
    "model_complexity(X_train, y_train, X_test, y_test)"
   ]
  },
  {
   "cell_type": "markdown",
   "metadata": {},
   "source": [
    "## Question 9\n",
    "*From the model complexity graph above, describe the training and testing errors as the max depth increases. Based on your interpretation of the graph, which max depth results in a model that best generalizes the dataset? Why?*"
   ]
  },
  {
   "cell_type": "markdown",
   "metadata": {},
   "source": [
    "**Answer: **\n",
    "\n",
    "Choosing `max_depth=4` seems like a good choice. Choosing higher complexity doesn't really improve the test set error any further. Using Occam's razor rule, the lowest complexity model should be chosen out of those that achieve equally good test error performance. Accordingly 4 seems a good choice"
   ]
  },
  {
   "cell_type": "markdown",
   "metadata": {},
   "source": [
    "# Model Prediction\n",
    "In this final section of the project, you will make a prediction on the client's feature set using an optimized model from `fit_model`. When applying grid search along with cross-validation to optimize your model, it would typically be performed and validated on a training set and subsequently evaluated on a **dedicated test set**. In this project, the optimization below is performed on the *entire dataset* (as opposed to the training set you made above) due to the many outliers in the data. Using the entire dataset for training provides for a less volatile prediction at the expense of not testing your model's performance. \n",
    "\n",
    "*To answer the following questions, it is recommended that you run the code blocks several times and use the median or mean value of the results.*"
   ]
  },
  {
   "cell_type": "markdown",
   "metadata": {},
   "source": [
    "## Question 10\n",
    "*Using grid search on the entire dataset, what is the optimal `max_depth` parameter for your model? How does this result compare to your intial intuition?*  \n",
    "**Hint: ** Run the code block below to see the max depth produced by your optimized model."
   ]
  },
  {
   "cell_type": "code",
   "execution_count": 51,
   "metadata": {
    "collapsed": false
   },
   "outputs": [
    {
     "name": "stdout",
     "output_type": "stream",
     "text": [
      "Final model has an optimal max_depth parameter of 6\n"
     ]
    }
   ],
   "source": [
    "print \"Final model has an optimal max_depth parameter of\", reg.get_params()['max_depth']"
   ]
  },
  {
   "cell_type": "markdown",
   "metadata": {},
   "source": [
    "**Answer: **\n",
    "\n",
    "On average the optimal `max_depth` came out to 6.33. That is for 9 samples. That means `max_depth` came out higher than the projected 4. But this does make sense since we are using more trainig data. More data can train a more complex model to achieve better test error results."
   ]
  },
  {
   "cell_type": "markdown",
   "metadata": {},
   "source": [
    "## Question 11\n",
    "*With your parameter-tuned model, what is the best selling price for your client's home? How does this selling price compare to the basic statistics you calculated on the dataset?*  \n",
    "\n",
    "**Hint: ** Run the code block below to have your parameter-tuned model make a prediction on the client's home."
   ]
  },
  {
   "cell_type": "code",
   "execution_count": 52,
   "metadata": {
    "collapsed": false
   },
   "outputs": [
    {
     "name": "stdout",
     "output_type": "stream",
     "text": [
      "Predicted value of client's home: 20.766\n"
     ]
    }
   ],
   "source": [
    "sale_price = reg.predict(CLIENT_FEATURES)\n",
    "print \"Predicted value of client's home: {0:.3f}\".format(sale_price[0])"
   ]
  },
  {
   "cell_type": "markdown",
   "metadata": {},
   "source": [
    "**Answer: **\n",
    "\n",
    "Pick `max_depth=6` as optimal. With that the predicted value for client's home is 20.766.\n",
    "\n",
    "This result is very close to the median 21.2 of the dataset. So it passes a sanity check.\n",
    "\n",
    "Looking at some more features for a sanity check:\n",
    "\n",
    "average RM 6.28\n",
    "average INDUS 11.13%\n",
    "average ZN 11.36%\n",
    "\n",
    "client RM 5.609\n",
    "client INDUS 18.1%\n",
    "client ZN 0.0%\n",
    "\n",
    "That means the size is about 1 bd smaller, in a bit more industrial area with no high end residential zoning. So it does make sense that it comes out a bit below the median."
   ]
  },
  {
   "cell_type": "markdown",
   "metadata": {},
   "source": [
    "## Question 12 (Final Question):\n",
    "*In a few sentences, discuss whether you would use this model or not to predict the selling price of future clients' homes in the Greater Boston area.*"
   ]
  },
  {
   "cell_type": "markdown",
   "metadata": {},
   "source": [
    "**Answer: **\n",
    "\n",
    "We don't know the performance on the test set since all data has been chosen for training. So the error on the test set is an unkown. It can be assumed to be somewhat better than what we saw in the complexity model.\n",
    "\n",
    "But for the sake of analysis the complexity model results could be used, which suggest a remaining test error of about 15 for `max_depth=6`. The square root of that is the standard deviation, which comes out to about 3.87. This give a confidence interval of 20.766 +/- 3.87. Or 16.89 to 24.64. With 95% percent chance the actual value of the client's home lies in this interval. \n",
    "\n",
    "Personally I think that's a rather large interval. The question is if we can do better. If we could get more data that'd be ideal. But assuming we cannot, one option would be to try a different estimator.\n"
   ]
  },
  {
   "cell_type": "code",
   "execution_count": null,
   "metadata": {
    "collapsed": true
   },
   "outputs": [],
   "source": []
  }
 ],
 "metadata": {
  "kernelspec": {
   "display_name": "Python 2",
   "language": "python",
   "name": "python2"
  },
  "language_info": {
   "codemirror_mode": {
    "name": "ipython",
    "version": 2
   },
   "file_extension": ".py",
   "mimetype": "text/x-python",
   "name": "python",
   "nbconvert_exporter": "python",
   "pygments_lexer": "ipython2",
   "version": "2.7.11"
  }
 },
 "nbformat": 4,
 "nbformat_minor": 0
}

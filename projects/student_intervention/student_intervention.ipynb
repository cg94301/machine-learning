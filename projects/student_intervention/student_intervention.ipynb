{
 "cells": [
  {
   "cell_type": "markdown",
   "metadata": {},
   "source": [
    "# Project 2: Supervised Learning\n",
    "### Building a Student Intervention System"
   ]
  },
  {
   "cell_type": "markdown",
   "metadata": {},
   "source": [
    "## 1. Classification vs Regression\n",
    "\n",
    "Your goal is to identify students who might need early intervention - which type of supervised machine learning problem is this, classification or regression? Why?\n"
   ]
  },
  {
   "cell_type": "markdown",
   "metadata": {},
   "source": [
    "The target is discrete, binary specificially. The only outcomes are pass or fail. Therefore this is a classification problem."
   ]
  },
  {
   "cell_type": "markdown",
   "metadata": {},
   "source": [
    "## 2. Exploring the Data\n",
    "\n",
    "Let's go ahead and read in the student dataset first.\n",
    "\n",
    "_To execute a code cell, click inside it and press **Shift+Enter**._"
   ]
  },
  {
   "cell_type": "code",
   "execution_count": 42,
   "metadata": {
    "collapsed": false
   },
   "outputs": [],
   "source": [
    "# Import libraries\n",
    "import numpy as np\n",
    "import pandas as pd"
   ]
  },
  {
   "cell_type": "code",
   "execution_count": 43,
   "metadata": {
    "collapsed": false
   },
   "outputs": [
    {
     "name": "stdout",
     "output_type": "stream",
     "text": [
      "Student data read successfully!\n"
     ]
    }
   ],
   "source": [
    "# Read student data\n",
    "student_data = pd.read_csv(\"student-data.csv\")\n",
    "print \"Student data read successfully!\"\n",
    "# Note: The last column 'passed' is the target/label, all other are feature columns\n",
    "\n",
    "#seed = 1234 # pick global seed for reproducability\n",
    "seed = 0"
   ]
  },
  {
   "cell_type": "markdown",
   "metadata": {},
   "source": [
    "Now, can you find out the following facts about the dataset?\n",
    "- Total number of students\n",
    "- Number of students who passed\n",
    "- Number of students who failed\n",
    "- Graduation rate of the class (%)\n",
    "- Number of features\n",
    "\n",
    "_Use the code block below to compute these values. Instructions/steps are marked using **TODO**s._"
   ]
  },
  {
   "cell_type": "code",
   "execution_count": 44,
   "metadata": {
    "collapsed": false
   },
   "outputs": [
    {
     "name": "stdout",
     "output_type": "stream",
     "text": [
      "Total number of students: 395\n",
      "Number of students who passed: 265\n",
      "Number of students who failed: 130\n",
      "Number of features: 30\n",
      "Graduation rate of the class: 0.67%\n"
     ]
    }
   ],
   "source": [
    "# TODO: Compute desired values - replace each '?' with an appropriate expression/function call\n",
    "n_students = student_data.shape[0]\n",
    "n_features = student_data.shape[1] - 1\n",
    "n_passed = [x == \"yes\" for x in student_data[\"passed\"]].count(True)\n",
    "n_failed = [x == \"yes\" for x in student_data[\"passed\"]].count(False)\n",
    "grad_rate = float(n_passed) / (n_passed + n_failed)\n",
    "print \"Total number of students: {}\".format(n_students)\n",
    "print \"Number of students who passed: {}\".format(n_passed)\n",
    "print \"Number of students who failed: {}\".format(n_failed)\n",
    "print \"Number of features: {}\".format(n_features)\n",
    "print \"Graduation rate of the class: {:.2f}%\".format(grad_rate)"
   ]
  },
  {
   "cell_type": "markdown",
   "metadata": {},
   "source": [
    "## 3. Preparing the Data\n",
    "In this section, we will prepare the data for modeling, training and testing.\n",
    "\n",
    "### Identify feature and target columns\n",
    "It is often the case that the data you obtain contains non-numeric features. This can be a problem, as most machine learning algorithms expect numeric data to perform computations with.\n",
    "\n",
    "Let's first separate our data into feature and target columns, and see if any features are non-numeric.<br/>\n",
    "**Note**: For this dataset, the last column (`'passed'`) is the target or label we are trying to predict."
   ]
  },
  {
   "cell_type": "code",
   "execution_count": 45,
   "metadata": {
    "collapsed": false
   },
   "outputs": [
    {
     "name": "stdout",
     "output_type": "stream",
     "text": [
      "Feature column(s):-\n",
      "['school', 'sex', 'age', 'address', 'famsize', 'Pstatus', 'Medu', 'Fedu', 'Mjob', 'Fjob', 'reason', 'guardian', 'traveltime', 'studytime', 'failures', 'schoolsup', 'famsup', 'paid', 'activities', 'nursery', 'higher', 'internet', 'romantic', 'famrel', 'freetime', 'goout', 'Dalc', 'Walc', 'health', 'absences']\n",
      "Target column: passed\n",
      "\n",
      "Feature values:-\n",
      "  school sex  age address famsize Pstatus  Medu  Fedu     Mjob      Fjob  \\\n",
      "0     GP   F   18       U     GT3       A     4     4  at_home   teacher   \n",
      "1     GP   F   17       U     GT3       T     1     1  at_home     other   \n",
      "2     GP   F   15       U     LE3       T     1     1  at_home     other   \n",
      "3     GP   F   15       U     GT3       T     4     2   health  services   \n",
      "4     GP   F   16       U     GT3       T     3     3    other     other   \n",
      "\n",
      "    ...    higher internet  romantic  famrel  freetime goout Dalc Walc health  \\\n",
      "0   ...       yes       no        no       4         3     4    1    1      3   \n",
      "1   ...       yes      yes        no       5         3     3    1    1      3   \n",
      "2   ...       yes      yes        no       4         3     2    2    3      3   \n",
      "3   ...       yes      yes       yes       3         2     2    1    1      5   \n",
      "4   ...       yes       no        no       4         3     2    1    2      5   \n",
      "\n",
      "  absences  \n",
      "0        6  \n",
      "1        4  \n",
      "2       10  \n",
      "3        2  \n",
      "4        4  \n",
      "\n",
      "[5 rows x 30 columns]\n"
     ]
    }
   ],
   "source": [
    "# Extract feature (X) and target (y) columns\n",
    "#print student_data.columns\n",
    "#print type(student_data.columns)\n",
    "#print student_data.index\n",
    "#print type(student_data.index)\n",
    "feature_cols = list(student_data.columns[:-1])  # all columns but last are features\n",
    "target_col = student_data.columns[-1]  # last column is the target/label\n",
    "print \"Feature column(s):-\\n{}\".format(feature_cols)\n",
    "print \"Target column: {}\".format(target_col)\n",
    "\n",
    "X_all = student_data[feature_cols]  # feature values for all students\n",
    "y_all = student_data[target_col]  # corresponding targets/labels\n",
    "print \"\\nFeature values:-\"\n",
    "print X_all.head()  # print the first 5 rows"
   ]
  },
  {
   "cell_type": "markdown",
   "metadata": {},
   "source": [
    "### Preprocess feature columns\n",
    "\n",
    "As you can see, there are several non-numeric columns that need to be converted! Many of them are simply `yes`/`no`, e.g. `internet`. These can be reasonably converted into `1`/`0` (binary) values.\n",
    "\n",
    "Other columns, like `Mjob` and `Fjob`, have more than two values, and are known as _categorical variables_. The recommended way to handle such a column is to create as many columns as possible values (e.g. `Fjob_teacher`, `Fjob_other`, `Fjob_services`, etc.), and assign a `1` to one of them and `0` to all others.\n",
    "\n",
    "These generated columns are sometimes called _dummy variables_, and we will use the [`pandas.get_dummies()`](http://pandas.pydata.org/pandas-docs/stable/generated/pandas.get_dummies.html?highlight=get_dummies#pandas.get_dummies) function to perform this transformation."
   ]
  },
  {
   "cell_type": "code",
   "execution_count": 46,
   "metadata": {
    "collapsed": false
   },
   "outputs": [
    {
     "name": "stdout",
     "output_type": "stream",
     "text": [
      "Processed feature columns (48):-\n",
      "['school_GP', 'school_MS', 'sex_F', 'sex_M', 'age', 'address_R', 'address_U', 'famsize_GT3', 'famsize_LE3', 'Pstatus_A', 'Pstatus_T', 'Medu', 'Fedu', 'Mjob_at_home', 'Mjob_health', 'Mjob_other', 'Mjob_services', 'Mjob_teacher', 'Fjob_at_home', 'Fjob_health', 'Fjob_other', 'Fjob_services', 'Fjob_teacher', 'reason_course', 'reason_home', 'reason_other', 'reason_reputation', 'guardian_father', 'guardian_mother', 'guardian_other', 'traveltime', 'studytime', 'failures', 'schoolsup', 'famsup', 'paid', 'activities', 'nursery', 'higher', 'internet', 'romantic', 'famrel', 'freetime', 'goout', 'Dalc', 'Walc', 'health', 'absences']\n"
     ]
    }
   ],
   "source": [
    "# Preprocess feature columns\n",
    "def preprocess_features(X):\n",
    "    outX = pd.DataFrame(index=X.index)  # output dataframe, initially empty\n",
    "\n",
    "    # Check each column\n",
    "    for col, col_data in X.iteritems():\n",
    "        # If data type is non-numeric, try to replace all yes/no values with 1/0\n",
    "        if col_data.dtype == object:\n",
    "            col_data = col_data.replace(['yes', 'no'], [1, 0])\n",
    "        # Note: This should change the data type for yes/no columns to int\n",
    "\n",
    "        # If still non-numeric, convert to one or more dummy variables\n",
    "        if col_data.dtype == object:\n",
    "            col_data = pd.get_dummies(col_data, prefix=col)  # e.g. 'school' => 'school_GP', 'school_MS'\n",
    "\n",
    "        outX = outX.join(col_data)  # collect column(s) in output dataframe\n",
    "\n",
    "    return outX\n",
    "\n",
    "X_all = preprocess_features(X_all)\n",
    "print \"Processed feature columns ({}):-\\n{}\".format(len(X_all.columns), list(X_all.columns))"
   ]
  },
  {
   "cell_type": "markdown",
   "metadata": {},
   "source": [
    "### Split data into training and test sets\n",
    "\n",
    "So far, we have converted all _categorical_ features into numeric values. In this next step, we split the data (both features and corresponding labels) into training and test sets."
   ]
  },
  {
   "cell_type": "code",
   "execution_count": 47,
   "metadata": {
    "collapsed": false
   },
   "outputs": [
    {
     "name": "stdout",
     "output_type": "stream",
     "text": [
      "Training set: 300 samples\n",
      "Test set: 95 samples\n"
     ]
    }
   ],
   "source": [
    "# First, decide how many training vs test samples you want\n",
    "num_all = student_data.shape[0]  # same as len(student_data)\n",
    "num_train = 300  # about 75% of the data\n",
    "num_test = num_all - num_train\n",
    "\n",
    "# TODO: Then, select features (X) and corresponding labels (y) for the training and test sets\n",
    "# Note: Shuffle the data or randomly select samples to avoid any bias due to ordering in the dataset\n",
    "from sklearn import cross_validation\n",
    "X_train,X_test,y_train,y_test = cross_validation.train_test_split(X_all,y_all,\n",
    "                                                                  train_size=300,\n",
    "                                                                  random_state=seed)\n",
    "\n",
    "print \"Training set: {} samples\".format(X_train.shape[0])\n",
    "print \"Test set: {} samples\".format(X_test.shape[0])\n",
    "# Note: If you need a validation set, extract it from within training data"
   ]
  },
  {
   "cell_type": "markdown",
   "metadata": {},
   "source": [
    "## 4. Training and Evaluating Models\n",
    "Choose 3 supervised learning models that are available in scikit-learn, and appropriate for this problem. For each model:\n",
    "\n",
    "- What is the theoretical O(n) time & space complexity in terms of input size?\n",
    "- What are the general applications of this model? What are its strengths and weaknesses?\n",
    "- Given what you know about the data so far, why did you choose this model to apply?\n",
    "- Fit this model to the training data, try to predict labels (for both training and test sets), and measure the F<sub>1</sub> score. Repeat this process with different training set sizes (100, 200, 300), keeping test set constant.\n",
    "\n",
    "Produce a table showing training time, prediction time, F<sub>1</sub> score on training set and F<sub>1</sub> score on test set, for each training set size.\n",
    "\n",
    "Note: You need to produce 3 such tables - one for each model."
   ]
  },
  {
   "cell_type": "markdown",
   "metadata": {},
   "source": [
    "-----\n",
    "\n",
    "### My choices\n",
    "\n",
    "1. Decision Tree \n",
    "2. Support Vector Machines\n",
    "3. Naive Bayes\n",
    "\n",
    "Ensemble method Random Forests is added to see if it might improve on Decision Tree results.\n",
    "\n",
    "### Decision Tree\n",
    "\n",
    "Time Complexity:\n",
    "\n",
    "> O(F N log(N))\n",
    "\n",
    "Space Complexity:\n",
    "\n",
    "> O(sqrt(F) N log(N))\n",
    "\n",
    "N = number of training examples,\n",
    "F = number of features\n",
    "\n",
    "Some advantages of decision trees are*:\n",
    "- Simple to understand and to interpret. Trees can be visualised.\n",
    "- Requires little data preparation. Other techniques often require data normalisation, dummy variables need to be created and blank values to be removed. Note however that this module does not support missing values.\n",
    "- The cost of using the tree (i.e., predicting data) is logarithmic in the number of data points used to train the tree.\n",
    "- Able to handle both numerical and categorical data. Other techniques are usually specialised in analysing datasets that have only one type of variable. See algorithms for more information.\n",
    "- Able to handle multi-output problems.\n",
    "- Uses a white box model. If a given situation is observable in a model, the explanation for the condition is easily explained by boolean logic. By contrast, in a black box model (e.g., in an artificial neural network), results may be more difficult to interpret.\n",
    "- Possible to validate a model using statistical tests. That makes it possible to account for the reliability of the model.\n",
    "- Performs well even if its assumptions are somewhat violated by the true model from which the data were generated.\n",
    "\n",
    "The disadvantages of decision trees include*:\n",
    "- Decision-tree learners can create over-complex trees that do not generalise the data well. This is called overfitting. Mechanisms such as pruning (not currently supported), setting the minimum number of samples required at a leaf node or setting the maximum depth of the tree are necessary to avoid this problem.\n",
    "- Decision trees can be unstable because small variations in the data might result in a completely different tree being generated. This problem is mitigated by using decision trees within an ensemble.\n",
    "- The problem of learning an optimal decision tree is known to be NP-complete under several aspects of optimality and even for simple concepts. Consequently, practical decision-tree learning algorithms are based on heuristic algorithms such as the greedy algorithm where locally optimal decisions are made at each node. Such algorithms cannot guarantee to return the globally optimal decision tree. This can be mitigated by training multiple trees in an ensemble learner, where the features and samples are randomly sampled with replacement.\n",
    "- There are concepts that are hard to learn because decision trees do not express them easily, such as XOR, parity or multiplexer problems.\n",
    "- Decision tree learners create biased trees if some classes dominate. It is therefore recommended to balance the dataset prior to fitting with the decision tree.\n",
    "\n",
    "My choice because:\n",
    "\n",
    "Results are easy to interpret due to white box nature of model. This will help when explaining to school board. Another advantage is the low computational complexity.\n",
    "\n",
    "Results:\n",
    "\n",
    "Training Set Size | 100 | 200 | 300\n",
    "------:|------:|------:|------:|\n",
    "Training (usec) | 864 | 1128 | 1686\n",
    "Prediction Train (usec) | 339 | 168 | 224\n",
    "F1 Train | 1.0 | 1.0 | 1.0\n",
    "Prediction Test (usec) | 152 | 148 | 143\n",
    "F1 Test | 0.6942 | 0.7131 | 0.7166\n",
    "\n",
    "\n",
    "### SVM\n",
    "\n",
    "Time Complexity (RBF kernel using SMO solver):\n",
    "\n",
    "> O(N^2 F)\n",
    "\n",
    "Time Complexity (linear kernel):\n",
    "\n",
    "> O(N F) \n",
    "\n",
    "Space Complexity:\n",
    "\n",
    "> O(N^2)\n",
    "\n",
    "N = number of training examples,\n",
    "F = number of features\n",
    "\n",
    "Some advantages of support vector machines are*:\n",
    "- Effective in high dimensional spaces.\n",
    "- Still effective in cases where number of dimensions is greater than the number of samples.\n",
    "- Uses a subset of training points in the decision function (called support vectors), so it is also memory efficient.\n",
    "- Versatile: different Kernel functions can be specified for the decision function. Common kernels are provided, but it is also possible to specify custom kernels.\n",
    "\n",
    "The disadvantages of support vector machines include*:\n",
    "- If the number of features is much greater than the number of samples, the method is likely to give poor performances.\n",
    "- SVMs do not directly provide probability estimates, these are calculated using an expensive five-fold cross-validation (see Scores and probabilities, below).\n",
    "- Black box. Can't interpret results.\n",
    "\n",
    "My choice because:\n",
    "\n",
    "Offers higher accuracy typically. Might consider if accuracy is signifcantly better. Drawbacks are higher computational complexity and black box nature of model.\n",
    "\n",
    "Results:\n",
    "\n",
    "Training Set Size | 100 | 200 | 300\n",
    "------:|------:|------:|------:|\n",
    "Training (usec) | 944 | 3637 | 5746\n",
    "Prediction Train (usec) | 643 | 1981 | 4002\n",
    "F1 Train | 0.8591 | 0.8693 | 0.8692\n",
    "Prediction Test (usec) | 632 | 1000 | 2364\n",
    "F1 Test | 0.7838 | 0.7755 | 0.7586\n",
    "\n",
    "\n",
    "### Naive Bayes\n",
    "\n",
    "Time Complexity:\n",
    "\n",
    "> O(N)\n",
    "\n",
    "Space Complexity:\n",
    "\n",
    "> O(N)\n",
    "\n",
    "N = number of training examples,\n",
    "F = number of features\n",
    "\n",
    "Some advantages of naive bayes include*:\n",
    "- In spite of their apparently over-simplified assumptions, naive Bayes classifiers have worked quite well in many real-world situations, famously document classification and spam filtering. They require a small amount of training data to estimate the necessary parameters. (For theoretical reasons why naive Bayes works well, and on which types of data it does, see the references below.)\n",
    "- Naive Bayes learners and classifiers can be extremely fast compared to more sophisticated methods. The decoupling of the class conditional feature distributions means that each distribution can be independently estimated as a one dimensional distribution. This in turn helps to alleviate problems stemming from the curse of dimensionality.\n",
    "\n",
    "The disadvantages of naive bayes include*:\n",
    "- On the flip side, although naive Bayes is known as a decent classifier, it is known to be a bad estimator, so the probability outputs from predict_proba are not to be taken too seriously.\n",
    "\n",
    "My choice because:\n",
    "\n",
    "One of the easiest to use models. Does not require any parameters. Fast model. Can give good results depending on domain.\n",
    "\n",
    "Results:\n",
    "\n",
    "Training Set Size | 100 | 200 | 300\n",
    "------:|------:|------:|------:|\n",
    "Training (usec) | 577 | 733 | 1160\n",
    "Prediction Train (usec) | 236 | 301 | 374\n",
    "F1 Train | 0.855 | 0.8321 | 0.8088\n",
    "Prediction Test (usec) | 417 | 268 | 374\n",
    "F1 Test | 0.7481 | 0.7132 | 0.75\n",
    "\n",
    "\n",
    "### Random Forest\n",
    "\n",
    "Random Forests are an ensemble of Decision Trees. The goal of ensemble methods is to combine the predictions of several base estimators built with a given learning algorithm in order to improve generalizability / robustness over a single estimator.\n",
    "\n",
    "Time Complexity: \n",
    "\n",
    "> O(M sqrt(F) N logN)\n",
    "\n",
    "Space Complexity: \n",
    "\n",
    "> O(sqrt(F) N logN)\n",
    "\n",
    "M = Number of trees,\n",
    "N = Number of training samples,\n",
    "F = Number of features,\n",
    "and assuming best pratice that max_features = sqrt(F)\n",
    "\n",
    "Tradeoffs*:\n",
    "\n",
    "In random forests, each tree in the ensemble is built from a sample drawn with replacement (i.e., a bootstrap sample) from the training set. In addition, when splitting a node during the construction of the tree, the split that is chosen is no longer the best split among all features. Instead, the split that is picked is the best split among a random subset of the features. As a result of this randomness, the bias of the forest usually slightly increases (with respect to the bias of a single non-random tree) but, due to averaging, its variance also decreases, usually more than compensating for the increase in bias, hence yielding an overall better model.\n",
    "\n",
    "Results:\n",
    "\n",
    "Training Set Size | 100 | 200 | 300\n",
    "------:|------:|------:|------:|\n",
    "Training (usec) | 19311 | 20757 | 27922\n",
    "Prediction Train (usec) | 818 | 965 | 1101\n",
    "F1 Train | 0.9841 | 1.0 | 0.9976\n",
    "Prediction Test (usec) | 738 | 760 | 880\n",
    "F1 Test | 0.7119 | 0.7761 | 0.7344\n",
    "\n",
    "*source scikit-learn"
   ]
  },
  {
   "cell_type": "code",
   "execution_count": 48,
   "metadata": {
    "collapsed": false
   },
   "outputs": [
    {
     "name": "stdout",
     "output_type": "stream",
     "text": [
      "Training DecisionTreeClassifier...\n",
      "Done!\n",
      "Training time (usec): 2073\n",
      "Depth of decision tree: 14\n"
     ]
    }
   ],
   "source": [
    "# Train a model\n",
    "import time\n",
    "from datetime import datetime\n",
    "\n",
    "def train_classifier(clf, X_train, y_train):\n",
    "    print \"Training {}...\".format(clf.__class__.__name__)\n",
    "    #start = time.time()\n",
    "    start = datetime.now()\n",
    "    clf.fit(X_train, y_train)\n",
    "    end = datetime.now()\n",
    "    print \"Done!\\nTraining time (usec): {:.0f}\".format(end.microsecond - start.microsecond)\n",
    "\n",
    "# TODO: Choose a model, import it and instantiate an object\n",
    "from sklearn import tree \n",
    "clf_dt = tree.DecisionTreeClassifier(random_state=seed)\n",
    "\n",
    "# Fit model to training data\n",
    "train_classifier(clf_dt, X_train, y_train)  # note: using entire training set here\n",
    "#print clf_dt.get_params()  # you can inspect the learned model by printing it\n",
    "\n",
    "print \"Depth of decision tree: %s\" % clf_dt.tree_.max_depth\n",
    "    "
   ]
  },
  {
   "cell_type": "code",
   "execution_count": 49,
   "metadata": {
    "collapsed": false
   },
   "outputs": [
    {
     "name": "stdout",
     "output_type": "stream",
     "text": [
      "Predicting labels using DecisionTreeClassifier...\n",
      "Done!\n",
      "Prediction time (usec): 576\n",
      "F1 score for training set: 1.0\n"
     ]
    }
   ],
   "source": [
    "# Predict on training set and compute F1 score\n",
    "from sklearn.metrics import f1_score,accuracy_score\n",
    "\n",
    "def predict_labels(clf, features, target):\n",
    "    print \"Predicting labels using {}...\".format(clf.__class__.__name__)\n",
    "    start = datetime.now()\n",
    "    y_pred = clf.predict(features)\n",
    "    end = datetime.now()\n",
    "    print \"Done!\\nPrediction time (usec): {:.0f}\".format(end.microsecond - start.microsecond)\n",
    "    #print \"Accuracy score: ({})\".format(accuracy_score(target.values, y_pred))\n",
    "    return f1_score(target.values, y_pred, pos_label='yes')\n",
    "\n",
    "train_f1_score = predict_labels(clf_dt, X_train, y_train)\n",
    "print \"F1 score for training set: {}\".format(train_f1_score)"
   ]
  },
  {
   "cell_type": "code",
   "execution_count": 50,
   "metadata": {
    "collapsed": false
   },
   "outputs": [
    {
     "name": "stdout",
     "output_type": "stream",
     "text": [
      "Predicting labels using DecisionTreeClassifier...\n",
      "Done!\n",
      "Prediction time (usec): 425\n",
      "F1 score for test set: 0.716666666667\n"
     ]
    }
   ],
   "source": [
    "# Predict on test data\n",
    "print \"F1 score for test set: {}\".format(predict_labels(clf_dt, X_test, y_test))"
   ]
  },
  {
   "cell_type": "code",
   "execution_count": 51,
   "metadata": {
    "collapsed": false
   },
   "outputs": [
    {
     "name": "stdout",
     "output_type": "stream",
     "text": [
      "------------------------------------------\n",
      "Training set size: 300\n",
      "Test set size: 95\n",
      "Training DecisionTreeClassifier...\n",
      "Done!\n",
      "Training time (usec): 2014\n",
      "Predicting labels using DecisionTreeClassifier...\n",
      "Done!\n",
      "Prediction time (usec): 260\n",
      "F1 score for training set: 1.0\n",
      "Predicting labels using DecisionTreeClassifier...\n",
      "Done!\n",
      "Prediction time (usec): 164\n",
      "F1 score for test set: 0.716666666667\n",
      "------------------------------------------\n",
      "Training set size: 200\n",
      "Test set size: 95\n",
      "Training DecisionTreeClassifier...\n",
      "Done!\n",
      "Training time (usec): 1162\n",
      "Predicting labels using DecisionTreeClassifier...\n",
      "Done!\n",
      "Prediction time (usec): 170\n",
      "F1 score for training set: 1.0\n",
      "Predicting labels using DecisionTreeClassifier...\n",
      "Done!\n",
      "Prediction time (usec): 154\n",
      "F1 score for test set: 0.713178294574\n",
      "------------------------------------------\n",
      "Training set size: 100\n",
      "Test set size: 95\n",
      "Training DecisionTreeClassifier...\n",
      "Done!\n",
      "Training time (usec): 637\n",
      "Predicting labels using DecisionTreeClassifier...\n",
      "Done!\n",
      "Prediction time (usec): 148\n",
      "F1 score for training set: 1.0\n",
      "Predicting labels using DecisionTreeClassifier...\n",
      "Done!\n",
      "Prediction time (usec): 219\n",
      "F1 score for test set: 0.694214876033\n"
     ]
    }
   ],
   "source": [
    "# Train and predict using different training set sizes\n",
    "def train_predict(clf, X_train, y_train, X_test, y_test):\n",
    "    print \"------------------------------------------\"\n",
    "    print \"Training set size: %s\" % X_train.shape[0]\n",
    "    print \"Test set size: %s\" % X_test.shape[0]\n",
    "    train_classifier(clf, X_train, y_train)\n",
    "    print \"F1 score for training set: {}\".format(predict_labels(clf, X_train, y_train))\n",
    "    print \"F1 score for test set: {}\".format(predict_labels(clf, X_test, y_test))\n",
    "\n",
    "# TODO: Run the helper function above for desired subsets of training data\n",
    "# Note: Keep the test set constant\n",
    "\n",
    "train_predict(clf_dt, X_train, y_train, X_test, y_test)\n",
    "\n",
    "train_predict(clf_dt, X_train[:200], y_train[:200], X_test, y_test)\n",
    "\n",
    "train_predict(clf_dt, X_train[:100], y_train[:100], X_test, y_test)"
   ]
  },
  {
   "cell_type": "code",
   "execution_count": 52,
   "metadata": {
    "collapsed": false
   },
   "outputs": [
    {
     "name": "stdout",
     "output_type": "stream",
     "text": [
      "------------------------------------------\n",
      "Training set size: 300\n",
      "Test set size: 95\n",
      "Training SVC...\n",
      "Done!\n",
      "Training time (usec): 5678\n",
      "Predicting labels using SVC...\n",
      "Done!\n",
      "Prediction time (usec): 4011\n",
      "F1 score for training set: 0.869198312236\n",
      "Predicting labels using SVC...\n",
      "Done!\n",
      "Prediction time (usec): 1497\n",
      "F1 score for test set: 0.758620689655\n",
      "------------------------------------------\n",
      "Training set size: 200\n",
      "Test set size: 95\n",
      "Training SVC...\n",
      "Done!\n",
      "Training time (usec): 2814\n",
      "Predicting labels using SVC...\n",
      "Done!\n",
      "Prediction time (usec): 2094\n",
      "F1 score for training set: 0.869281045752\n",
      "Predicting labels using SVC...\n",
      "Done!\n",
      "Prediction time (usec): 1047\n",
      "F1 score for test set: 0.775510204082\n",
      "------------------------------------------\n",
      "Training set size: 100\n",
      "Test set size: 95\n",
      "Training SVC...\n",
      "Done!\n",
      "Training time (usec): 950\n",
      "Predicting labels using SVC...\n",
      "Done!\n",
      "Prediction time (usec): 686\n",
      "F1 score for training set: 0.859060402685\n",
      "Predicting labels using SVC...\n",
      "Done!\n",
      "Prediction time (usec): 606\n",
      "F1 score for test set: 0.783783783784\n"
     ]
    }
   ],
   "source": [
    "# TODO: Train and predict using two other models\n",
    "from sklearn import svm\n",
    "clf_svc = svm.SVC()\n",
    "\n",
    "train_predict(clf_svc, X_train, y_train, X_test, y_test)\n",
    "\n",
    "train_predict(clf_svc, X_train[:200], y_train[:200], X_test, y_test)\n",
    "\n",
    "train_predict(clf_svc, X_train[:100], y_train[:100], X_test, y_test)"
   ]
  },
  {
   "cell_type": "code",
   "execution_count": 53,
   "metadata": {
    "collapsed": false
   },
   "outputs": [
    {
     "name": "stdout",
     "output_type": "stream",
     "text": [
      "------------------------------------------\n",
      "Training set size: 300\n",
      "Test set size: 95\n",
      "Training GaussianNB...\n",
      "Done!\n",
      "Training time (usec): 1636\n",
      "Predicting labels using GaussianNB...\n",
      "Done!\n",
      "Prediction time (usec): 477\n",
      "F1 score for training set: 0.808823529412\n",
      "Predicting labels using GaussianNB...\n",
      "Done!\n",
      "Prediction time (usec): 282\n",
      "F1 score for test set: 0.75\n",
      "------------------------------------------\n",
      "Training set size: 200\n",
      "Test set size: 95\n",
      "Training GaussianNB...\n",
      "Done!\n",
      "Training time (usec): 636\n",
      "Predicting labels using GaussianNB...\n",
      "Done!\n",
      "Prediction time (usec): 298\n",
      "F1 score for training set: 0.832061068702\n",
      "Predicting labels using GaussianNB...\n",
      "Done!\n",
      "Prediction time (usec): 238\n",
      "F1 score for test set: 0.713178294574\n",
      "------------------------------------------\n",
      "Training set size: 100\n",
      "Test set size: 95\n",
      "Training GaussianNB...\n",
      "Done!\n",
      "Training time (usec): 620\n",
      "Predicting labels using GaussianNB...\n",
      "Done!\n",
      "Prediction time (usec): 269\n",
      "F1 score for training set: 0.854961832061\n",
      "Predicting labels using GaussianNB...\n",
      "Done!\n",
      "Prediction time (usec): 239\n",
      "F1 score for test set: 0.748091603053\n"
     ]
    }
   ],
   "source": [
    "from sklearn.naive_bayes import GaussianNB\n",
    "\n",
    "clf_nb = GaussianNB()\n",
    "\n",
    "train_predict(clf_nb, X_train, y_train, X_test, y_test)\n",
    "\n",
    "train_predict(clf_nb, X_train[:200], y_train[:200], X_test, y_test)\n",
    "\n",
    "train_predict(clf_nb, X_train[:100], y_train[:100], X_test, y_test)"
   ]
  },
  {
   "cell_type": "code",
   "execution_count": 54,
   "metadata": {
    "collapsed": false
   },
   "outputs": [
    {
     "name": "stdout",
     "output_type": "stream",
     "text": [
      "------------------------------------------\n",
      "Training set size: 300\n",
      "Test set size: 95\n",
      "Training RandomForestClassifier...\n",
      "Done!\n",
      "Training time (usec): 26280\n",
      "Predicting labels using RandomForestClassifier...\n",
      "Done!\n",
      "Prediction time (usec): 1261\n",
      "F1 score for training set: 0.997578692494\n",
      "Predicting labels using RandomForestClassifier...\n",
      "Done!\n",
      "Prediction time (usec): 925\n",
      "F1 score for test set: 0.734375\n",
      "------------------------------------------\n",
      "Training set size: 200\n",
      "Test set size: 95\n",
      "Training RandomForestClassifier...\n",
      "Done!\n",
      "Training time (usec): 24551\n",
      "Predicting labels using RandomForestClassifier...\n",
      "Done!\n",
      "Prediction time (usec): 1088\n",
      "F1 score for training set: 1.0\n",
      "Predicting labels using RandomForestClassifier...\n",
      "Done!\n",
      "Prediction time (usec): 852\n",
      "F1 score for test set: 0.776119402985\n",
      "------------------------------------------\n",
      "Training set size: 100\n",
      "Test set size: 95\n",
      "Training RandomForestClassifier...\n",
      "Done!\n",
      "Training time (usec): 20076\n",
      "Predicting labels using RandomForestClassifier...\n",
      "Done!\n",
      "Prediction time (usec): 858\n",
      "F1 score for training set: 0.984126984127\n",
      "Predicting labels using RandomForestClassifier...\n",
      "Done!\n",
      "Prediction time (usec): 978\n",
      "F1 score for test set: 0.71186440678\n"
     ]
    }
   ],
   "source": [
    "from sklearn.ensemble import RandomForestClassifier\n",
    "\n",
    "clf_rf = RandomForestClassifier(random_state=seed)\n",
    "\n",
    "train_predict(clf_rf, X_train, y_train, X_test, y_test)\n",
    "\n",
    "train_predict(clf_rf, X_train[:200], y_train[:200], X_test, y_test)\n",
    "\n",
    "train_predict(clf_rf, X_train[:100], y_train[:100], X_test, y_test)"
   ]
  },
  {
   "cell_type": "markdown",
   "metadata": {},
   "source": [
    "## 5. Choosing the Best Model\n",
    "\n",
    "- Based on the experiments you performed earlier, in 1-2 paragraphs explain to the board of supervisors what single model you chose as the best model. Which model is generally the most appropriate based on the available data, limited resources, cost, and performance?\n",
    "- In 1-2 paragraphs explain to the board of supervisors in layman's terms how the final model chosen is supposed to work (for example if you chose a Decision Tree or Support Vector Machine, how does it make a prediction).\n",
    "- Fine-tune the model. Use Gridsearch with at least one important parameter tuned and with at least 3 settings. Use the entire training set for this.\n",
    "- What is the model's final F<sub>1</sub> score?"
   ]
  },
  {
   "cell_type": "markdown",
   "metadata": {},
   "source": [
    "----\n",
    "#### What model to choose:\n",
    "\n",
    "In terms of accuracy the results rank like this after grid search (F1 score):\n",
    "\n",
    "Random Forest (0.8112) > Decision Tree (0.7914) > SVM (0.7862). \n",
    "\n",
    "For comparison NB F1 is 0.75 (no grid search).\n",
    "\n",
    "Given accuracy results I'd drop NB. Given that SVM is higher in compuational complexity compared to Decision Tree (see results section 4), I'd drop SVM. Another drawback of SVMs is their black box nature. That means results cannot be easily interpreted.\n",
    "\n",
    "That leaves Decision Trees and Random Forests. Random Forests are about 2% more accurate. But they do have higher computational complexity M * sqrt(F) > F. They also make interpretation of results a bit harder.\n",
    "\n",
    "In summary, I'd choose Decision Trees. They are fast, easy to interpret and sufficiently accurate.\n",
    "\n",
    "#### How it works:\n",
    "\n",
    "A tree can be learned by splitting the source set into subsets based on a feature value test, e.g information gain. This process is repeated on each derived subset in a recursive manner. The recursion is completed when the subset at a node has all the same value of the target variable, or when splitting no longer adds value to the predictions. This process of top-down induction of decision trees is an example of a greedy algorithm, and it is by far the most common strategy for learning decision trees from data.*\n",
    "\n",
    "*wikipedia, mostly\n",
    "\n",
    "#### Tuning Results:\n",
    "\n",
    "The Decision Tree grid search returned these as best parameters to choose:\n",
    "\n",
    "Best params: {'criterion': 'entropy', 'max_depth': 4}\n",
    "\n",
    "With a final F1 score of 0.7914.\n"
   ]
  },
  {
   "cell_type": "code",
   "execution_count": 55,
   "metadata": {
    "collapsed": false
   },
   "outputs": [
    {
     "name": "stdout",
     "output_type": "stream",
     "text": [
      "Grid search SVC ...\n",
      "Predicting labels using GridSearchCV...\n",
      "Done!\n",
      "Prediction time (usec): 1329\n",
      "F1 score for test set: 0.786206896552\n",
      "Best params: {'kernel': 'rbf', 'C': 10, 'gamma': 0.001}\n",
      "\n",
      "Grid search Decision Tree ...\n",
      "Predicting labels using GridSearchCV...\n",
      "Done!\n",
      "Prediction time (usec): 176\n",
      "F1 score for test set: 0.791366906475\n",
      "Best params: {'criterion': 'entropy', 'max_depth': 4}\n",
      "\n",
      "Grid search Random Forest ...\n",
      "Predicting labels using GridSearchCV...\n",
      "Done!\n",
      "Prediction time (usec): 1395\n",
      "F1 score for test set: 0.811188811189\n",
      "Best params: {'max_features': 8, 'n_estimators': 11}\n"
     ]
    }
   ],
   "source": [
    "# TODO: Fine-tune your model and report the best F1 score\n",
    "from sklearn import grid_search\n",
    "\n",
    "print \"Grid search SVC ...\"\n",
    "parameters = {'kernel':('linear','rbf'), 'C':[1,2,3,5,10], 'gamma':[0.001]}\n",
    "clf_svc_grd = grid_search.GridSearchCV(svm.SVC(), parameters, cv=3)\n",
    "clf_svc_grd.fit(X_train,y_train)\n",
    "\n",
    "# Predict on test data\n",
    "print \"F1 score for test set: {}\".format(predict_labels(clf_svc_grd, X_test, y_test))\n",
    "print \"Best params: %s\" % clf_svc_grd.best_params_\n",
    "print\n",
    "\n",
    "print \"Grid search Decision Tree ...\"\n",
    "parameters = {'max_depth':(4,5,6,7,8,9,10),'criterion':('gini','entropy')}\n",
    "clf_dt_grd = grid_search.GridSearchCV(tree.DecisionTreeClassifier(random_state=seed),parameters, cv=6)\n",
    "clf_dt_grd.fit(X_train, y_train)\n",
    "\n",
    "# Predict on test data\n",
    "print \"F1 score for test set: {}\".format(predict_labels(clf_dt_grd, X_test, y_test))\n",
    "print \"Best params: %s\" % clf_dt_grd.best_params_\n",
    "print\n",
    "\n",
    "# best practice choose max_features = sqrt(n_features)\n",
    "print \"Grid search Random Forest ...\"\n",
    "parameters = {'n_estimators':(8,9,10,11,12),'max_features':(5,6,7,8,9)}\n",
    "clf_rf_grd = grid_search.GridSearchCV(RandomForestClassifier(random_state=seed),parameters, cv=6)\n",
    "clf_rf_grd.fit(X_train, y_train)\n",
    "\n",
    "# Predict on test data\n",
    "print \"F1 score for test set: {}\".format(predict_labels(clf_rf_grd, X_test, y_test))\n",
    "print \"Best params: %s\" % clf_rf_grd.best_params_"
   ]
  },
  {
   "cell_type": "code",
   "execution_count": null,
   "metadata": {
    "collapsed": true
   },
   "outputs": [],
   "source": []
  }
 ],
 "metadata": {
  "kernelspec": {
   "display_name": "Python 2",
   "language": "python",
   "name": "python2"
  },
  "language_info": {
   "codemirror_mode": {
    "name": "ipython",
    "version": 2
   },
   "file_extension": ".py",
   "mimetype": "text/x-python",
   "name": "python",
   "nbconvert_exporter": "python",
   "pygments_lexer": "ipython2",
   "version": "2.7.12"
  }
 },
 "nbformat": 4,
 "nbformat_minor": 0
}
